{
  "nbformat": 4,
  "nbformat_minor": 0,
  "metadata": {
    "colab": {
      "name": "DP_BCP.ipynb",
      "provenance": [],
      "collapsed_sections": []
    },
    "kernelspec": {
      "name": "python3",
      "display_name": "Python 3"
    },
    "language_info": {
      "name": "python"
    }
  },
  "cells": [
    {
      "cell_type": "markdown",
      "metadata": {
        "id": "fSSd-6oQBF3J"
      },
      "source": [
        "**DEEP NEURAL NETWORK TO PREDICT BREAST CANCER - SHAPEAI PROJECT-1**"
      ]
    },
    {
      "cell_type": "code",
      "metadata": {
        "id": "qwm4ofzJBhPM"
      },
      "source": [
        "# Importing Dataset\n",
        "\n",
        "from sklearn.datasets import load_breast_cancer\n",
        "Data = load_breast_cancer()"
      ],
      "execution_count": null,
      "outputs": []
    },
    {
      "cell_type": "code",
      "metadata": {
        "id": "f_2M-cYXCB6h"
      },
      "source": [
        "print(Data.DESCR) # Data description from sklearn datasets"
      ],
      "execution_count": null,
      "outputs": []
    },
    {
      "cell_type": "code",
      "metadata": {
        "id": "psN8hZ-SEOoJ"
      },
      "source": [
        "features = Data.data\n",
        "target = Data.target\n",
        "\n",
        "print(features.shape)  # (no_of_instances,no_of_attributes)\n",
        "print(target.shape)    # (no_of_tlargeted_data)\n"
      ],
      "execution_count": null,
      "outputs": []
    },
    {
      "cell_type": "markdown",
      "metadata": {
        "id": "G1-inX4OSRPH"
      },
      "source": [
        "**Train/Test Data**"
      ]
    },
    {
      "cell_type": "code",
      "metadata": {
        "id": "Jhogpe9YFjA3"
      },
      "source": [
        "from sklearn.model_selection import train_test_split\n",
        "\n",
        "X_train, X_test, Y_train, Y_test = train_test_split(features, target, test_size=0.2)\n",
        "\n",
        "# Train Data\n",
        "print(X_train.shape)\n",
        "print(Y_train.shape)\n",
        "# Test Data\n",
        "print(X_test.shape)\n",
        "print(Y_test.shape)\n",
        "\n"
      ],
      "execution_count": null,
      "outputs": []
    },
    {
      "cell_type": "markdown",
      "metadata": {
        "id": "p9OTc28ESqi3"
      },
      "source": [
        "**Creating Model**"
      ]
    },
    {
      "cell_type": "code",
      "metadata": {
        "id": "_fa7udR5LMga"
      },
      "source": [
        "from keras.models import Sequential\n",
        "from keras.layers import Dense"
      ],
      "execution_count": null,
      "outputs": []
    },
    {
      "cell_type": "code",
      "metadata": {
        "id": "0IiTf1tNIkYe"
      },
      "source": [
        "model = Sequential()\n",
        "model.add(Dense(32, input_dim = 30, activation='relu')) # hidden layer 1\n",
        "model.add(Dense(64, activation='relu')) # hidden layer 2\n",
        "model.add(Dense(1, activation='sigmoid'))"
      ],
      "execution_count": null,
      "outputs": []
    },
    {
      "cell_type": "code",
      "metadata": {
        "id": "quWUmdTbJ4Rz"
      },
      "source": [
        "model.compile(loss='binary_crossentropy', optimizer='adam', metrics=('accuracy'))"
      ],
      "execution_count": null,
      "outputs": []
    },
    {
      "cell_type": "code",
      "metadata": {
        "id": "5eSQZaFMKYA_"
      },
      "source": [
        "model.summary()"
      ],
      "execution_count": null,
      "outputs": []
    },
    {
      "cell_type": "markdown",
      "metadata": {
        "id": "Rr3QjRoKS-Ik"
      },
      "source": [
        "**Training Datasets**"
      ]
    },
    {
      "cell_type": "code",
      "metadata": {
        "id": "uhlEoztdKoOF"
      },
      "source": [
        "model.fit(X_train, Y_train, epochs=10)"
      ],
      "execution_count": null,
      "outputs": []
    },
    {
      "cell_type": "code",
      "metadata": {
        "id": "GbwnoSYpN6di"
      },
      "source": [
        "scores = model.evaluate(X_test, Y_test)\n",
        "print(scores)"
      ],
      "execution_count": null,
      "outputs": []
    },
    {
      "cell_type": "markdown",
      "metadata": {
        "id": "oxvq-LRzTENI"
      },
      "source": [
        "**Predictions on the Model**"
      ]
    },
    {
      "cell_type": "code",
      "metadata": {
        "id": "8ZHbiriTPoLJ"
      },
      "source": [
        "predictions = model.predict(X_test)\n",
        "label = []\n",
        "for p in predictions :\n",
        "  if p >= 0.5 :\n",
        "    print(\"Malignent\")  # Meaning could be severe\n",
        "  else:\n",
        "    print(\"Benign\")     # Meaning not dangerous"
      ],
      "execution_count": null,
      "outputs": []
    }
  ]
}